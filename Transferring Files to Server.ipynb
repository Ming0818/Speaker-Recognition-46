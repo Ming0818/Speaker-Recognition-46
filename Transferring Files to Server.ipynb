{
 "cells": [
  {
   "cell_type": "code",
   "execution_count": 1,
   "metadata": {},
   "outputs": [],
   "source": [
    "import os\n",
    "import subprocess\n",
    "import os.path\n",
    "#Function from Alex Lin \n",
    "def bash(string):\n",
    "    '''run a bash command and return stdout lines as a py list'''\n",
    "    stdout=(subprocess.Popen(string, shell=True, stdout=subprocess.PIPE).stdout.read())\n",
    "    output = str(stdout)[2:-1].split('\\\\n')[:-1]\n",
    "    #output = str(stdout).split('\\\\n')[1:-1]\n",
    "    #output[0] = output[0][2:]\n",
    "    return output"
   ]
  },
  {
   "cell_type": "code",
   "execution_count": 2,
   "metadata": {},
   "outputs": [
    {
     "name": "stdout",
     "output_type": "stream",
     "text": [
      "Do you want to continue? y\n",
      "Do you want to continue? y\n",
      "Do you want to continue? y\n",
      "Do you want to continue? y\n",
      "scp E:/spectrogram/20_mp3/* ubuntu@ec2-18-220-165-111.us-east-2.compute.amazonaws.com:Data\n",
      "scp E:/spectrogram/21_mp3/* ubuntu@ec2-18-220-165-111.us-east-2.compute.amazonaws.com:Data\n",
      "scp E:/spectrogram/23_mp3/* ubuntu@ec2-18-220-165-111.us-east-2.compute.amazonaws.com:Data\n",
      "scp E:/spectrogram/24_mp3/* ubuntu@ec2-18-220-165-111.us-east-2.compute.amazonaws.com:Data\n",
      "scp E:/spectrogram/25_mp3/* ubuntu@ec2-18-220-165-111.us-east-2.compute.amazonaws.com:Data\n",
      "scp E:/spectrogram/26_mp3/* ubuntu@ec2-18-220-165-111.us-east-2.compute.amazonaws.com:Data\n",
      "scp E:/spectrogram/27_mp3/* ubuntu@ec2-18-220-165-111.us-east-2.compute.amazonaws.com:Data\n",
      "scp E:/spectrogram/28_mp3/* ubuntu@ec2-18-220-165-111.us-east-2.compute.amazonaws.com:Data\n",
      "scp E:/spectrogram/29_mp3/* ubuntu@ec2-18-220-165-111.us-east-2.compute.amazonaws.com:Data\n",
      "scp E:/spectrogram/30_mp3/* ubuntu@ec2-18-220-165-111.us-east-2.compute.amazonaws.com:Data\n",
      "scp E:/spectrogram/31_mp3/* ubuntu@ec2-18-220-165-111.us-east-2.compute.amazonaws.com:Data\n",
      "Do you want to continue? n\n"
     ]
    }
   ],
   "source": [
    "list_spec = bash('ls E:/spectrogram')\n",
    "flag = 0\n",
    "counter = 0\n",
    "\n",
    "for spec in list_spec:\n",
    "    spectro = 'E:/spectrogram/'+ spec\n",
    "    if spectro == 'E:/spectrogram/32_mp3':\n",
    "        flag = 1\n",
    "    \n",
    "    if flag == 1:\n",
    "        server = 'ec2-18-220-165-111.us-east-2.compute.amazonaws.com'\n",
    "        download_cmd = 'scp ' + spectro + '/* ubuntu@'+ server +':Data'\n",
    "        print(download_cmd)\n",
    "        bash(download_cmd)\n",
    "    \n",
    "    if counter == 10:\n",
    "        counter = 0\n",
    "        continue_ = input(\"Do you want to continue? \")\n",
    "        if continue_ ==\"y\":\n",
    "            continue\n",
    "        else: \n",
    "            break\n",
    "    counter += 1\n",
    "            \n"
   ]
  },
  {
   "cell_type": "code",
   "execution_count": null,
   "metadata": {},
   "outputs": [],
   "source": []
  }
 ],
 "metadata": {
  "kernelspec": {
   "display_name": "Python 3",
   "language": "python",
   "name": "python3"
  },
  "language_info": {
   "codemirror_mode": {
    "name": "ipython",
    "version": 3
   },
   "file_extension": ".py",
   "mimetype": "text/x-python",
   "name": "python",
   "nbconvert_exporter": "python",
   "pygments_lexer": "ipython3",
   "version": "3.6.5"
  }
 },
 "nbformat": 4,
 "nbformat_minor": 2
}
