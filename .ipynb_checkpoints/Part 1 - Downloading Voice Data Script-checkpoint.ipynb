{
 "cells": [
  {
   "cell_type": "markdown",
   "metadata": {},
   "source": [
    "# Downloading Voice Data Script"
   ]
  },
  {
   "cell_type": "code",
   "execution_count": 1,
   "metadata": {},
   "outputs": [],
   "source": [
    "import pandas as pd\n",
    "import urllib.request\n",
    "import os\n",
    "from os import listdir\n",
    "from os.path import isfile, join\n",
    "import zipfile\n",
    "import sys"
   ]
  },
  {
   "cell_type": "markdown",
   "metadata": {},
   "source": [
    "#### Get list of archives from archives_list.csv"
   ]
  },
  {
   "cell_type": "code",
   "execution_count": 2,
   "metadata": {},
   "outputs": [],
   "source": [
    "archives_frame = pd.read_csv(\"archives_list.csv\",header= None,skiprows = [0])"
   ]
  },
  {
   "cell_type": "code",
   "execution_count": 3,
   "metadata": {},
   "outputs": [
    {
     "data": {
      "text/plain": [
       "'http://www.archive.org/download//elfantasmadecantervilleyotroscuentos_1712_librivox/elfantasmadecantervilleyotroscuentos_1712_librivox_64kb_mp3.zip'"
      ]
     },
     "execution_count": 3,
     "metadata": {},
     "output_type": "execute_result"
    }
   ],
   "source": [
    "archives_frame[0][0]"
   ]
  },
  {
   "cell_type": "markdown",
   "metadata": {},
   "source": [
    "### Download zip files and put them in a HardDrive (E:\\\\Data)"
   ]
  },
  {
   "cell_type": "code",
   "execution_count": 4,
   "metadata": {},
   "outputs": [],
   "source": [
    "# Download the file from `url` and save it locally under `file_name`:\n",
    "# Remember the format Drive/folder/filename.mp3 , or else it'll give an error saying permission denied or something to that affect"
   ]
  },
  {
   "cell_type": "markdown",
   "metadata": {},
   "source": [
    "**Download first 10**"
   ]
  },
  {
   "cell_type": "code",
   "execution_count": 5,
   "metadata": {
    "scrolled": true
   },
   "outputs": [],
   "source": [
    "# for num in range(10):\n",
    "#     str_url = str(num//10)+str(num%10)\n",
    "    \n",
    "#     down_url = 'E:\\Data\\\\' + str_url+\"_mp3.zip\" \n",
    "#     print(down_url)\n",
    "#     # This downloads the files from the links\n",
    "#     urllib.request.urlretrieve(archives_frame[0][num], down_url)\n",
    "    \n",
    "#Download done "
   ]
  },
  {
   "cell_type": "markdown",
   "metadata": {},
   "source": [
    "### Unzip downloaded files and put them in E:\\\\Data Extracted"
   ]
  },
  {
   "cell_type": "code",
   "execution_count": 6,
   "metadata": {},
   "outputs": [],
   "source": [
    "# Maybe use this, clear print output at the end of each loop ==> loading bar stuff\n",
    "\n",
    "# for i in range(10000):\n",
    "#     print(i,'\\r',end=\"\")"
   ]
  },
  {
   "cell_type": "markdown",
   "metadata": {},
   "source": [
    "**Get list of zip files download so far in \"Data\" directory**"
   ]
  },
  {
   "cell_type": "code",
   "execution_count": 7,
   "metadata": {},
   "outputs": [],
   "source": [
    "# Make list of zip files downloaded so far \n",
    "# by looking through directory\n",
    "\n",
    "# path_to_zip_archive = \"E:\\Data\\\\\"\n",
    "\n",
    "# audio_zip_files = [(path_to_zip_archive + file_in_archive) \n",
    "#                    for file_in_archive in listdir(path_to_zip_archive) if isfile(join(path_to_zip_archive, file_in_archive))]"
   ]
  },
  {
   "cell_type": "code",
   "execution_count": 8,
   "metadata": {
    "scrolled": true
   },
   "outputs": [],
   "source": [
    "#[audio_file[8:-4]+\"\\\\\" for audio_file in audio_zip_files]"
   ]
  },
  {
   "cell_type": "markdown",
   "metadata": {},
   "source": [
    "**Extract audio files from the zip files**"
   ]
  },
  {
   "cell_type": "code",
   "execution_count": 9,
   "metadata": {},
   "outputs": [],
   "source": [
    "# path_to_unzipped_archive = \"E:\\Data_Extracted\\\\\"\n",
    "\n",
    "# for audio_file in audio_zip_files:\n",
    "    \n",
    "#     directory_of_audio_file = path_to_unzipped_archive + audio_file[8:-4] + \"\\\\\"\n",
    "    \n",
    "#     # Make directory to put contents of each zip file in\n",
    "#     if not os.path.exists(directory_of_audio_file):\n",
    "#         os.makedirs(directory_of_audio_file)\n",
    "\n",
    "#     zipfile.ZipFile(audio_file,\"r\").extractall(directory_of_audio_file)\n",
    "\n"
   ]
  },
  {
   "cell_type": "markdown",
   "metadata": {},
   "source": [
    "**Downloading the first 10 files required some tinkering**\n",
    "<br>\n",
    "**Now that I have the algorithm down, I will make some functions to make the process look smoother**"
   ]
  },
  {
   "cell_type": "markdown",
   "metadata": {},
   "source": [
    "### Functions"
   ]
  },
  {
   "cell_type": "code",
   "execution_count": 4,
   "metadata": {},
   "outputs": [],
   "source": [
    "def download_zipfiles_from_archive_frame(start,end,hard_drive_folder_zip):\n",
    "    for num in range(start,end):\n",
    "        str_url = str(num//10)+str(num%10)\n",
    "\n",
    "        down_url = hard_drive_folder_zip + str_url + \"_mp3.zip\" \n",
    "        sys.stdout.write('{0} currently downloading\\r'.format(down_url))\n",
    "        sys.stdout.flush()\n",
    "        # This downloads the files from the links\n",
    "        urllib.request.urlretrieve(archives_frame[0][num], down_url)\n",
    "        print(down_url,\" download complete     \")\n",
    "    return None"
   ]
  },
  {
   "cell_type": "code",
   "execution_count": 5,
   "metadata": {},
   "outputs": [],
   "source": [
    "def extract_files(hard_drive_folder_zip,hard_drive_folder_unzipped):\n",
    "    \n",
    "    # Get the path to folder where zip files are\n",
    "    path_to_zip_archive = hard_drive_folder_zip\n",
    "\n",
    "    # Look in zip files folder and get list of current zip files\n",
    "    audio_zip_files = [(path_to_zip_archive + file_in_archive) \n",
    "                       for file_in_archive in listdir(path_to_zip_archive) if isfile(join(path_to_zip_archive, file_in_archive))]\n",
    "    \n",
    "    # Get the path to folder where you want to put unzipped files\n",
    "    path_to_unzipped_archive = hard_drive_folder_unzipped\n",
    "\n",
    "    # For each file in zip file folder\n",
    "    for audio_file in audio_zip_files:\n",
    "        \n",
    "        # Example:==> converts \"E:\\Data\\00_mp3.zip\" ==> \"00_mp3\" and makes that a subdirectory name e.g. \"E:\\Data Extracted\\00mp3\"    \n",
    "        directory_of_audio_file = path_to_unzipped_archive + audio_file[8:-4] + \"\\\\\"\n",
    "\n",
    "        # Make directory to put contents of each zip file in\n",
    "        # Checks first if file exists already, \n",
    "        # if it does not exist, create directory and extract into that directory\n",
    "        \n",
    "        if not os.path.exists(directory_of_audio_file):\n",
    "            os.makedirs(directory_of_audio_file)\n",
    "            zipfile.ZipFile(audio_file,\"r\").extractall(directory_of_audio_file)\n",
    "            print(directory_of_audio_file, \"<== extracted from \", audio_file)\n",
    "    \n",
    "    print(\"Process complete\")\n",
    "    return None\n",
    "       "
   ]
  },
  {
   "cell_type": "markdown",
   "metadata": {},
   "source": [
    "**Extract another 10 files**"
   ]
  },
  {
   "cell_type": "code",
   "execution_count": 12,
   "metadata": {},
   "outputs": [],
   "source": [
    "#download_zipfiles_from_archive_frame(13,14,'E:\\Data\\\\')"
   ]
  },
  {
   "cell_type": "markdown",
   "metadata": {},
   "source": [
    "**Downloaded 13 so far, extract them to see if function works**"
   ]
  },
  {
   "cell_type": "code",
   "execution_count": 13,
   "metadata": {},
   "outputs": [],
   "source": [
    "#extract_files('E:\\Data\\\\','E:\\Data_Extracted\\\\')"
   ]
  },
  {
   "cell_type": "markdown",
   "metadata": {},
   "source": [
    "**Extraction works, get 17 more**"
   ]
  },
  {
   "cell_type": "code",
   "execution_count": 14,
   "metadata": {},
   "outputs": [],
   "source": [
    "#download_zipfiles_from_archive_frame(14,31,'E:\\Data\\\\')"
   ]
  },
  {
   "cell_type": "code",
   "execution_count": 15,
   "metadata": {},
   "outputs": [],
   "source": [
    "#extract_files('E:\\Data\\\\','E:\\Data_Extracted\\\\')"
   ]
  },
  {
   "cell_type": "markdown",
   "metadata": {},
   "source": [
    "**Now get 20 more**"
   ]
  },
  {
   "cell_type": "code",
   "execution_count": 16,
   "metadata": {},
   "outputs": [],
   "source": [
    "#download_zipfiles_from_archive_frame(31,51,'E:\\Data\\\\')"
   ]
  },
  {
   "cell_type": "code",
   "execution_count": 17,
   "metadata": {},
   "outputs": [],
   "source": [
    "#extract_files('E:\\Data\\\\','E:\\Data_Extracted\\\\')"
   ]
  },
  {
   "cell_type": "markdown",
   "metadata": {},
   "source": [
    "**Maybe get 50 more?**"
   ]
  },
  {
   "cell_type": "code",
   "execution_count": 18,
   "metadata": {},
   "outputs": [
    {
     "name": "stdout",
     "output_type": "stream",
     "text": [
      "What's your name? joey\n",
      "Nice to meet you joey!\n"
     ]
    }
   ],
   "source": [
    "name = ''\n",
    "while(name != 'joey'):\n",
    "    name = input(\"What's your name? \")\n",
    "    print(\"Nice to meet you \" + name + \"!\")"
   ]
  },
  {
   "cell_type": "code",
   "execution_count": 19,
   "metadata": {},
   "outputs": [],
   "source": [
    "#current_file_number = 51"
   ]
  },
  {
   "cell_type": "code",
   "execution_count": 6,
   "metadata": {},
   "outputs": [],
   "source": [
    "def ask_me_what_to_download(data_folder = 'E:\\Data\\\\'):\n",
    "    \n",
    "    current_file = open(\"current_file_number.txt\",\"r\")\n",
    "    current_file_number = current_file.read()\n",
    "    current_file_number = int(current_file_number)\n",
    "    current_file.close()\n",
    "    \n",
    "    continue_ = 'yes'\n",
    "    while(continue_ == 'yes'):\n",
    "\n",
    "        print(\"You are at \",current_file_number)\n",
    "\n",
    "        number_of_files = input(\"How files do you want to download? \")\n",
    "        number_of_files = int(number_of_files)\n",
    "\n",
    "        up_to_this_file = current_file_number + number_of_files\n",
    "\n",
    "        download_zipfiles_from_archive_frame(current_file_number, up_to_this_file, data_folder)\n",
    "        \n",
    "        current_file_number = up_to_this_file\n",
    "\n",
    "        print(\"You are at \", up_to_this_file, \"\\n\")\n",
    "        continue_ = input(\"Do you want to continue? \")\n",
    "    \n",
    "    store = open(\"current_file_number.txt\",\"w+\")\n",
    "    store.write(str(current_file_number))\n",
    "    store.close()\n",
    "    \n",
    "    return current_file_number"
   ]
  },
  {
   "cell_type": "code",
   "execution_count": 26,
   "metadata": {
    "scrolled": true
   },
   "outputs": [
    {
     "name": "stdout",
     "output_type": "stream",
     "text": [
      "You are at  52\n",
      "How files do you want to download? 3\n",
      "E:\\Data\\52_mp3.zip  download complete     \n",
      "E:\\Data\\53_mp3.zip  download complete     \n",
      "E:\\Data\\54_mp3.zip  download complete     \n",
      "You are at  55 \n",
      "\n",
      "Do you want to continue? yes\n",
      "You are at  55\n",
      "How files do you want to download? 1\n",
      "E:\\Data\\55_mp3.zip  download complete     \n",
      "You are at  56 \n",
      "\n",
      "Do you want to continue? yes\n",
      "You are at  56\n",
      "How files do you want to download? 4\n",
      "E:\\Data\\56_mp3.zip  download complete     \n",
      "E:\\Data\\57_mp3.zip  download complete     \n",
      "E:\\Data\\58_mp3.zip  download complete     \n",
      "E:\\Data\\59_mp3.zip  download complete     \n",
      "You are at  60 \n",
      "\n",
      "Do you want to continue? no\n"
     ]
    }
   ],
   "source": [
    "#current_file_numbero = ask_me_what_to_download(current_file_number)"
   ]
  },
  {
   "cell_type": "code",
   "execution_count": 33,
   "metadata": {
    "scrolled": true
   },
   "outputs": [
    {
     "name": "stdout",
     "output_type": "stream",
     "text": [
      "You are at  60\n",
      "How files do you want to download? 5\n",
      "E:\\Data\\60_mp3.zip  download complete     \n",
      "E:\\Data\\61_mp3.zip  download complete     \n",
      "E:\\Data\\62_mp3.zip  download complete     \n",
      "E:\\Data\\63_mp3.zip  download complete     \n",
      "E:\\Data\\64_mp3.zip  download complete     \n",
      "You are at  65 \n",
      "\n",
      "Do you want to continue? yes\n",
      "You are at  65\n",
      "How files do you want to download? 10\n",
      "E:\\Data\\65_mp3.zip  download complete     \n",
      "E:\\Data\\66_mp3.zip  download complete     \n",
      "E:\\Data\\67_mp3.zip  download complete     \n",
      "E:\\Data\\68_mp3.zip  download complete     \n",
      "E:\\Data\\69_mp3.zip  download complete     \n",
      "E:\\Data\\70_mp3.zip  download complete     \n",
      "E:\\Data\\71_mp3.zip  download complete     \n",
      "E:\\Data\\72_mp3.zip  download complete     \n",
      "E:\\Data\\73_mp3.zip  download complete     \n",
      "E:\\Data\\74_mp3.zip  download complete     \n",
      "You are at  75 \n",
      "\n",
      "Do you want to continue? yes\n",
      "You are at  75\n",
      "How files do you want to download? 5\n",
      "E:\\Data\\75_mp3.zip  download complete     \n",
      "E:\\Data\\76_mp3.zip  download complete     \n",
      "E:\\Data\\77_mp3.zip  download complete     \n",
      "E:\\Data\\78_mp3.zip  download complete     \n",
      "E:\\Data\\79_mp3.zip  download complete     \n",
      "You are at  80 \n",
      "\n",
      "Do you want to continue? yes\n",
      "You are at  80\n",
      "How files do you want to download? 5\n",
      "E:\\Data\\80_mp3.zip  download complete     \n",
      "E:\\Data\\81_mp3.zip  download complete     \n",
      "E:\\Data\\82_mp3.zip  download complete     \n",
      "E:\\Data\\83_mp3.zip  download complete     \n",
      "E:\\Data\\84_mp3.zip  download complete     \n",
      "You are at  85 \n",
      "\n",
      "Do you want to continue? yes\n",
      "You are at  85\n",
      "How files do you want to download? 5\n",
      "E:\\Data\\85_mp3.zip  download complete     \n",
      "E:\\Data\\86_mp3.zip  download complete     \n",
      "E:\\Data\\87_mp3.zip  download complete     \n",
      "E:\\Data\\88_mp3.zip  download complete     \n",
      "E:\\Data\\89_mp3.zip  download complete     \n",
      "You are at  90 \n",
      "\n",
      "Do you want to continue? yes \n"
     ]
    },
    {
     "data": {
      "text/plain": [
       "90"
      ]
     },
     "execution_count": 33,
     "metadata": {},
     "output_type": "execute_result"
    }
   ],
   "source": [
    "#ask_me_what_to_download()"
   ]
  },
  {
   "cell_type": "code",
   "execution_count": 34,
   "metadata": {
    "scrolled": false
   },
   "outputs": [
    {
     "name": "stdout",
     "output_type": "stream",
     "text": [
      "You are at  90\n",
      "How files do you want to download? 10\n",
      "E:\\Data\\90_mp3.zip  download complete     \n",
      "E:\\Data\\91_mp3.zip  download complete     \n",
      "E:\\Data\\92_mp3.zip  download complete     \n",
      "E:\\Data\\93_mp3.zip  download complete     \n",
      "E:\\Data\\94_mp3.zip  download complete     \n",
      "E:\\Data\\95_mp3.zip  download complete     \n",
      "E:\\Data\\96_mp3.zip  download complete     \n",
      "E:\\Data\\97_mp3.zip  download complete     \n",
      "E:\\Data\\98_mp3.zip  download complete     \n",
      "E:\\Data\\99_mp3.zip  download complete     \n",
      "You are at  100 \n",
      "\n",
      "Do you want to continue? no\n"
     ]
    },
    {
     "data": {
      "text/plain": [
       "100"
      ]
     },
     "execution_count": 34,
     "metadata": {},
     "output_type": "execute_result"
    }
   ],
   "source": [
    "#ask_me_what_to_download()"
   ]
  },
  {
   "cell_type": "code",
   "execution_count": 35,
   "metadata": {
    "scrolled": true
   },
   "outputs": [
    {
     "name": "stdout",
     "output_type": "stream",
     "text": [
      "E:\\Data Extracted\\51_mp3\\ <== extracted from  E:\\Data\\51_mp3.zip\n",
      "E:\\Data Extracted\\52_mp3\\ <== extracted from  E:\\Data\\52_mp3.zip\n",
      "E:\\Data Extracted\\53_mp3\\ <== extracted from  E:\\Data\\53_mp3.zip\n",
      "E:\\Data Extracted\\54_mp3\\ <== extracted from  E:\\Data\\54_mp3.zip\n",
      "E:\\Data Extracted\\55_mp3\\ <== extracted from  E:\\Data\\55_mp3.zip\n",
      "E:\\Data Extracted\\56_mp3\\ <== extracted from  E:\\Data\\56_mp3.zip\n",
      "E:\\Data Extracted\\57_mp3\\ <== extracted from  E:\\Data\\57_mp3.zip\n",
      "E:\\Data Extracted\\58_mp3\\ <== extracted from  E:\\Data\\58_mp3.zip\n",
      "E:\\Data Extracted\\59_mp3\\ <== extracted from  E:\\Data\\59_mp3.zip\n",
      "E:\\Data Extracted\\60_mp3\\ <== extracted from  E:\\Data\\60_mp3.zip\n",
      "E:\\Data Extracted\\61_mp3\\ <== extracted from  E:\\Data\\61_mp3.zip\n",
      "E:\\Data Extracted\\62_mp3\\ <== extracted from  E:\\Data\\62_mp3.zip\n",
      "E:\\Data Extracted\\63_mp3\\ <== extracted from  E:\\Data\\63_mp3.zip\n",
      "E:\\Data Extracted\\64_mp3\\ <== extracted from  E:\\Data\\64_mp3.zip\n",
      "E:\\Data Extracted\\65_mp3\\ <== extracted from  E:\\Data\\65_mp3.zip\n",
      "E:\\Data Extracted\\66_mp3\\ <== extracted from  E:\\Data\\66_mp3.zip\n",
      "E:\\Data Extracted\\67_mp3\\ <== extracted from  E:\\Data\\67_mp3.zip\n",
      "E:\\Data Extracted\\68_mp3\\ <== extracted from  E:\\Data\\68_mp3.zip\n",
      "E:\\Data Extracted\\69_mp3\\ <== extracted from  E:\\Data\\69_mp3.zip\n",
      "E:\\Data Extracted\\70_mp3\\ <== extracted from  E:\\Data\\70_mp3.zip\n",
      "E:\\Data Extracted\\71_mp3\\ <== extracted from  E:\\Data\\71_mp3.zip\n",
      "E:\\Data Extracted\\72_mp3\\ <== extracted from  E:\\Data\\72_mp3.zip\n",
      "E:\\Data Extracted\\73_mp3\\ <== extracted from  E:\\Data\\73_mp3.zip\n",
      "E:\\Data Extracted\\74_mp3\\ <== extracted from  E:\\Data\\74_mp3.zip\n",
      "E:\\Data Extracted\\75_mp3\\ <== extracted from  E:\\Data\\75_mp3.zip\n",
      "E:\\Data Extracted\\76_mp3\\ <== extracted from  E:\\Data\\76_mp3.zip\n",
      "E:\\Data Extracted\\77_mp3\\ <== extracted from  E:\\Data\\77_mp3.zip\n",
      "E:\\Data Extracted\\78_mp3\\ <== extracted from  E:\\Data\\78_mp3.zip\n",
      "E:\\Data Extracted\\79_mp3\\ <== extracted from  E:\\Data\\79_mp3.zip\n",
      "E:\\Data Extracted\\80_mp3\\ <== extracted from  E:\\Data\\80_mp3.zip\n",
      "E:\\Data Extracted\\81_mp3\\ <== extracted from  E:\\Data\\81_mp3.zip\n",
      "E:\\Data Extracted\\82_mp3\\ <== extracted from  E:\\Data\\82_mp3.zip\n",
      "E:\\Data Extracted\\83_mp3\\ <== extracted from  E:\\Data\\83_mp3.zip\n",
      "E:\\Data Extracted\\84_mp3\\ <== extracted from  E:\\Data\\84_mp3.zip\n",
      "E:\\Data Extracted\\85_mp3\\ <== extracted from  E:\\Data\\85_mp3.zip\n",
      "E:\\Data Extracted\\86_mp3\\ <== extracted from  E:\\Data\\86_mp3.zip\n",
      "E:\\Data Extracted\\87_mp3\\ <== extracted from  E:\\Data\\87_mp3.zip\n",
      "E:\\Data Extracted\\88_mp3\\ <== extracted from  E:\\Data\\88_mp3.zip\n",
      "E:\\Data Extracted\\89_mp3\\ <== extracted from  E:\\Data\\89_mp3.zip\n",
      "E:\\Data Extracted\\90_mp3\\ <== extracted from  E:\\Data\\90_mp3.zip\n",
      "E:\\Data Extracted\\91_mp3\\ <== extracted from  E:\\Data\\91_mp3.zip\n",
      "E:\\Data Extracted\\92_mp3\\ <== extracted from  E:\\Data\\92_mp3.zip\n",
      "E:\\Data Extracted\\93_mp3\\ <== extracted from  E:\\Data\\93_mp3.zip\n",
      "E:\\Data Extracted\\94_mp3\\ <== extracted from  E:\\Data\\94_mp3.zip\n",
      "E:\\Data Extracted\\95_mp3\\ <== extracted from  E:\\Data\\95_mp3.zip\n",
      "E:\\Data Extracted\\96_mp3\\ <== extracted from  E:\\Data\\96_mp3.zip\n",
      "E:\\Data Extracted\\97_mp3\\ <== extracted from  E:\\Data\\97_mp3.zip\n",
      "E:\\Data Extracted\\98_mp3\\ <== extracted from  E:\\Data\\98_mp3.zip\n",
      "E:\\Data Extracted\\99_mp3\\ <== extracted from  E:\\Data\\99_mp3.zip\n",
      "Process complete\n"
     ]
    }
   ],
   "source": [
    "#extract_files('E:\\Data\\\\','E:\\Data_Extracted\\\\')"
   ]
  },
  {
   "cell_type": "code",
   "execution_count": 3,
   "metadata": {},
   "outputs": [],
   "source": [
    "import pandas as pd\n",
    "archives_frame = pd.read_csv(\"archives_list.csv\",header= None,skiprows = [0])"
   ]
  },
  {
   "cell_type": "code",
   "execution_count": 24,
   "metadata": {
    "scrolled": true
   },
   "outputs": [
    {
     "name": "stdout",
     "output_type": "stream",
     "text": [
      "You are at  100\n",
      "How files do you want to download? 10\n",
      "E:\\Data\\100_mp3.zip  download complete     \n",
      "E:\\Data\\101_mp3.zip  download complete     \n",
      "E:\\Data\\102_mp3.zip  download complete     \n",
      "E:\\Data\\103_mp3.zip  download complete     \n",
      "E:\\Data\\104_mp3.zip  download complete     \n",
      "E:\\Data\\105_mp3.zip  download complete     \n",
      "E:\\Data\\106_mp3.zip  download complete     \n",
      "E:\\Data\\107_mp3.zip  download complete     \n",
      "E:\\Data\\108_mp3.zip  download complete     \n",
      "E:\\Data\\109_mp3.zip  download complete     \n",
      "You are at  110 \n",
      "\n",
      "Do you want to continue? yes\n",
      "You are at  110\n",
      "How files do you want to download? 15\n",
      "E:\\Data\\110_mp3.zip  download complete     \n",
      "E:\\Data\\111_mp3.zip  download complete     \n",
      "E:\\Data\\112_mp3.zip  download complete     \n",
      "E:\\Data\\113_mp3.zip  download complete     \n",
      "E:\\Data\\114_mp3.zip  download complete     \n",
      "E:\\Data\\115_mp3.zip  download complete     \n",
      "E:\\Data\\116_mp3.zip  download complete     \n",
      "E:\\Data\\117_mp3.zip  download complete     \n",
      "E:\\Data\\118_mp3.zip  download complete     \n",
      "E:\\Data\\119_mp3.zip  download complete     \n",
      "E:\\Data\\120_mp3.zip  download complete     \n",
      "E:\\Data\\121_mp3.zip  download complete     \n",
      "E:\\Data\\122_mp3.zip  download complete     \n",
      "E:\\Data\\123_mp3.zip  download complete     \n",
      "E:\\Data\\124_mp3.zip  download complete     \n",
      "You are at  125 \n",
      "\n",
      "Do you want to continue? no\n"
     ]
    },
    {
     "data": {
      "text/plain": [
       "125"
      ]
     },
     "execution_count": 24,
     "metadata": {},
     "output_type": "execute_result"
    }
   ],
   "source": [
    "#ask_me_what_to_download()"
   ]
  },
  {
   "cell_type": "code",
   "execution_count": 7,
   "metadata": {
    "scrolled": true
   },
   "outputs": [
    {
     "name": "stdout",
     "output_type": "stream",
     "text": [
      "E:\\Data Extracted\\100_mp3\\ <== extracted from  E:\\Data\\100_mp3.zip\n",
      "E:\\Data Extracted\\101_mp3\\ <== extracted from  E:\\Data\\101_mp3.zip\n",
      "E:\\Data Extracted\\102_mp3\\ <== extracted from  E:\\Data\\102_mp3.zip\n",
      "E:\\Data Extracted\\103_mp3\\ <== extracted from  E:\\Data\\103_mp3.zip\n",
      "E:\\Data Extracted\\104_mp3\\ <== extracted from  E:\\Data\\104_mp3.zip\n",
      "E:\\Data Extracted\\105_mp3\\ <== extracted from  E:\\Data\\105_mp3.zip\n",
      "E:\\Data Extracted\\106_mp3\\ <== extracted from  E:\\Data\\106_mp3.zip\n",
      "E:\\Data Extracted\\107_mp3\\ <== extracted from  E:\\Data\\107_mp3.zip\n",
      "E:\\Data Extracted\\108_mp3\\ <== extracted from  E:\\Data\\108_mp3.zip\n",
      "E:\\Data Extracted\\109_mp3\\ <== extracted from  E:\\Data\\109_mp3.zip\n",
      "E:\\Data Extracted\\110_mp3\\ <== extracted from  E:\\Data\\110_mp3.zip\n",
      "E:\\Data Extracted\\111_mp3\\ <== extracted from  E:\\Data\\111_mp3.zip\n",
      "E:\\Data Extracted\\112_mp3\\ <== extracted from  E:\\Data\\112_mp3.zip\n",
      "E:\\Data Extracted\\113_mp3\\ <== extracted from  E:\\Data\\113_mp3.zip\n",
      "E:\\Data Extracted\\114_mp3\\ <== extracted from  E:\\Data\\114_mp3.zip\n",
      "E:\\Data Extracted\\115_mp3\\ <== extracted from  E:\\Data\\115_mp3.zip\n",
      "E:\\Data Extracted\\116_mp3\\ <== extracted from  E:\\Data\\116_mp3.zip\n",
      "E:\\Data Extracted\\117_mp3\\ <== extracted from  E:\\Data\\117_mp3.zip\n",
      "E:\\Data Extracted\\118_mp3\\ <== extracted from  E:\\Data\\118_mp3.zip\n",
      "E:\\Data Extracted\\119_mp3\\ <== extracted from  E:\\Data\\119_mp3.zip\n",
      "E:\\Data Extracted\\120_mp3\\ <== extracted from  E:\\Data\\120_mp3.zip\n",
      "E:\\Data Extracted\\121_mp3\\ <== extracted from  E:\\Data\\121_mp3.zip\n",
      "E:\\Data Extracted\\122_mp3\\ <== extracted from  E:\\Data\\122_mp3.zip\n",
      "E:\\Data Extracted\\123_mp3\\ <== extracted from  E:\\Data\\123_mp3.zip\n",
      "E:\\Data Extracted\\124_mp3\\ <== extracted from  E:\\Data\\124_mp3.zip\n",
      "Process complete\n"
     ]
    }
   ],
   "source": [
    "extract_files('E:\\Data\\\\','E:\\Data_Extracted\\\\')"
   ]
  },
  {
   "cell_type": "code",
   "execution_count": 9,
   "metadata": {
    "scrolled": true
   },
   "outputs": [
    {
     "name": "stdout",
     "output_type": "stream",
     "text": [
      "00_mp3 size: 140.2621250152588\n",
      "01_mp3 size: 103.92293071746826\n",
      "02_mp3 size: 49.29841709136963\n",
      "03_mp3 size: 37.818885803222656\n",
      "04_mp3 size: 239.9194574356079\n",
      "05_mp3 size: 145.62378406524658\n",
      "06_mp3 size: 26.029109954833984\n",
      "07_mp3 size: 545.2979068756104\n",
      "08_mp3 size: 157.11909770965576\n",
      "09_mp3 size: 129.07411575317383\n",
      "100_mp3 size: 115.48974609375\n",
      "101_mp3 size: 11.83203125\n",
      "102_mp3 size: 53.55712890625\n",
      "103_mp3 size: 193.65234375\n",
      "104_mp3 size: 127.84912109375\n",
      "105_mp3 size: 469.841796875\n",
      "106_mp3 size: 176.6298828125\n",
      "107_mp3 size: 12.798828125\n",
      "108_mp3 size: 478.52978515625\n",
      "109_mp3 size: 79.072265625\n",
      "10_mp3 size: 224.19019317626953\n",
      "110_mp3 size: 165.8056640625\n",
      "111_mp3 size: 2748.861328125\n",
      "112_mp3 size: 39.51904296875\n",
      "113_mp3 size: 115.5478515625\n",
      "114_mp3 size: 229.94189453125\n",
      "115_mp3 size: 285.97998046875\n",
      "116_mp3 size: 86.869140625\n",
      "117_mp3 size: 244.75048828125\n",
      "118_mp3 size: 430.65478515625\n",
      "119_mp3 size: 71.19482421875\n",
      "11_mp3 size: 219.4467067718506\n",
      "120_mp3 size: 143.2861328125\n",
      "121_mp3 size: 198.41796875\n",
      "122_mp3 size: 211.4794921875\n",
      "123_mp3 size: 80.41064453125\n",
      "124_mp3 size: 41.63134765625\n",
      "12_mp3 size: 244.22356986999512\n",
      "13_mp3 size: 1181.9541015625\n",
      "14_mp3 size: 81.583984375\n",
      "15_mp3 size: 99.5450382232666\n",
      "16_mp3 size: 265.41796875\n",
      "17_mp3 size: 375.65966796875\n",
      "18_mp3 size: 38.6728515625\n",
      "19_mp3 size: 134.61474609375\n",
      "20_mp3 size: 280.1416015625\n",
      "21_mp3 size: 292.51799488067627\n",
      "22_mp3 size: 23.40625\n",
      "23_mp3 size: 596.37158203125\n",
      "24_mp3 size: 377.2158203125\n",
      "25_mp3 size: 53.9287109375\n",
      "26_mp3 size: 509.81787109375\n",
      "27_mp3 size: 19.61962890625\n",
      "28_mp3 size: 122.0400390625\n",
      "29_mp3 size: 107.72802734375\n",
      "30_mp3 size: 144.68798828125\n",
      "31_mp3 size: 121.31640625\n",
      "32_mp3 size: 401.78369140625\n",
      "33_mp3 size: 335.203125\n",
      "34_mp3 size: 70.28564453125\n",
      "35_mp3 size: 144.5283203125\n",
      "36_mp3 size: 502.60400390625\n",
      "37_mp3 size: 65.72216796875\n",
      "38_mp3 size: 240.9521484375\n",
      "39_mp3 size: 444.01220703125\n",
      "40_mp3 size: 294.994140625\n",
      "41_mp3 size: 384.20849609375\n",
      "42_mp3 size: 21.630859375\n",
      "43_mp3 size: 46.22216796875\n",
      "44_mp3 size: 214.3916015625\n",
      "45_mp3 size: 19.04052734375\n",
      "46_mp3 size: 249.5380859375\n",
      "47_mp3 size: 254.40771484375\n",
      "48_mp3 size: 239.65185546875\n",
      "49_mp3 size: 19.8193359375\n",
      "50_mp3 size: 166.47265625\n",
      "51_mp3 size: 124.50439453125\n",
      "52_mp3 size: 103.44384765625\n",
      "53_mp3 size: 261.64453125\n",
      "54_mp3 size: 256.2685546875\n",
      "55_mp3 size: 214.6494140625\n",
      "56_mp3 size: 214.744140625\n",
      "57_mp3 size: 471.4931640625\n",
      "58_mp3 size: 102.9248046875\n",
      "59_mp3 size: 77.5126953125\n",
      "60_mp3 size: 190.1708984375\n",
      "61_mp3 size: 66.6611328125\n",
      "62_mp3 size: 54.0869140625\n",
      "63_mp3 size: 192.19482421875\n",
      "64_mp3 size: 228.35693359375\n",
      "65_mp3 size: 73.8212890625\n",
      "66_mp3 size: 212.04638671875\n",
      "67_mp3 size: 37.197265625\n",
      "68_mp3 size: 139.302734375\n",
      "69_mp3 size: 175.60986328125\n",
      "70_mp3 size: 22.94189453125\n",
      "71_mp3 size: 184.7255859375\n",
      "72_mp3 size: 102.27197265625\n",
      "73_mp3 size: 110.46044921875\n",
      "74_mp3 size: 153.46875\n",
      "75_mp3 size: 37.8046875\n",
      "76_mp3 size: 55.91162109375\n",
      "77_mp3 size: 96.89404296875\n",
      "78_mp3 size: 161.2607421875\n",
      "79_mp3 size: 123.603515625\n",
      "80_mp3 size: 175.13671875\n",
      "81_mp3 size: 43.43603515625\n",
      "82_mp3 size: 518.18212890625\n",
      "83_mp3 size: 354.693359375\n",
      "84_mp3 size: 42.822265625\n",
      "85_mp3 size: 116.4365234375\n",
      "86_mp3 size: 50.30615234375\n",
      "87_mp3 size: 303.37939453125\n",
      "88_mp3 size: 304.44775390625\n",
      "89_mp3 size: 359.625\n",
      "90_mp3 size: 44.84814453125\n",
      "91_mp3 size: 255.31640625\n",
      "92_mp3 size: 212.4228515625\n",
      "93_mp3 size: 55.52734375\n",
      "94_mp3 size: 149.2978515625\n",
      "95_mp3 size: 343.60595703125\n",
      "96_mp3 size: 345.85009765625\n",
      "97_mp3 size: 366.841796875\n",
      "98_mp3 size: 164.4208984375\n",
      "99_mp3 size: 51.1943359375\n"
     ]
    }
   ],
   "source": [
    "import os\n",
    "from os import listdir\n",
    "from os.path import isfile, join\n",
    "\n",
    "total_size = 0\n",
    "start_path = 'E:\\Data_Extracted\\\\'\n",
    "#list of subdirectories in this folder\n",
    "list_of_extracted = listdir(start_path)\n",
    "list_of_extracted\n",
    "\n",
    "#empty dictionary that will contain sizes of each subdirectory\n",
    "dict_of_sizes = {}\n",
    "\n",
    "# Get size of each directory folder\n",
    "for folder in list_of_extracted:\n",
    "    total_size = 0\n",
    "    this_folder_path = join(start_path, folder)\n",
    "    for path, dirs, files in os.walk(this_folder_path):\n",
    "        for f in files:\n",
    "            fp = os.path.join(path, f)\n",
    "            total_size += os.path.getsize(fp) #getsize returns file size in bytes\n",
    "    dict_of_sizes[folder] = total_size/(1024**2) #convert to Megabtyes\n",
    "    print(folder + \" size: \" + str(total_size/(1024**2)))\n"
   ]
  },
  {
   "cell_type": "code",
   "execution_count": 10,
   "metadata": {
    "scrolled": true
   },
   "outputs": [],
   "source": [
    "#sizes of all my files\n",
    "dict_of_sizes\n",
    "\n",
    "import json\n",
    "sizes_of_extracted_files = open(\"sizes_of_extracted_files.txt\",\"w+\")\n",
    "sizes_of_extracted_files.write(json.dumps(dict_of_sizes))\n",
    "sizes_of_extracted_files.close()\n"
   ]
  },
  {
   "cell_type": "code",
   "execution_count": 11,
   "metadata": {},
   "outputs": [],
   "source": [
    "data = open(\"sizes_of_extracted_files.txt\").read()\n",
    "size_data = json.loads(data)\n"
   ]
  },
  {
   "cell_type": "code",
   "execution_count": 12,
   "metadata": {},
   "outputs": [
    {
     "data": {
      "text/plain": [
       "{'00_mp3': 140.2621250152588,\n",
       " '01_mp3': 103.92293071746826,\n",
       " '02_mp3': 49.29841709136963,\n",
       " '03_mp3': 37.818885803222656,\n",
       " '04_mp3': 239.9194574356079,\n",
       " '05_mp3': 145.62378406524658,\n",
       " '06_mp3': 26.029109954833984,\n",
       " '07_mp3': 545.2979068756104,\n",
       " '08_mp3': 157.11909770965576,\n",
       " '09_mp3': 129.07411575317383,\n",
       " '100_mp3': 115.48974609375,\n",
       " '101_mp3': 11.83203125,\n",
       " '102_mp3': 53.55712890625,\n",
       " '103_mp3': 193.65234375,\n",
       " '104_mp3': 127.84912109375,\n",
       " '105_mp3': 469.841796875,\n",
       " '106_mp3': 176.6298828125,\n",
       " '107_mp3': 12.798828125,\n",
       " '108_mp3': 478.52978515625,\n",
       " '109_mp3': 79.072265625,\n",
       " '10_mp3': 224.19019317626953,\n",
       " '110_mp3': 165.8056640625,\n",
       " '111_mp3': 2748.861328125,\n",
       " '112_mp3': 39.51904296875,\n",
       " '113_mp3': 115.5478515625,\n",
       " '114_mp3': 229.94189453125,\n",
       " '115_mp3': 285.97998046875,\n",
       " '116_mp3': 86.869140625,\n",
       " '117_mp3': 244.75048828125,\n",
       " '118_mp3': 430.65478515625,\n",
       " '119_mp3': 71.19482421875,\n",
       " '11_mp3': 219.4467067718506,\n",
       " '120_mp3': 143.2861328125,\n",
       " '121_mp3': 198.41796875,\n",
       " '122_mp3': 211.4794921875,\n",
       " '123_mp3': 80.41064453125,\n",
       " '124_mp3': 41.63134765625,\n",
       " '12_mp3': 244.22356986999512,\n",
       " '13_mp3': 1181.9541015625,\n",
       " '14_mp3': 81.583984375,\n",
       " '15_mp3': 99.5450382232666,\n",
       " '16_mp3': 265.41796875,\n",
       " '17_mp3': 375.65966796875,\n",
       " '18_mp3': 38.6728515625,\n",
       " '19_mp3': 134.61474609375,\n",
       " '20_mp3': 280.1416015625,\n",
       " '21_mp3': 292.51799488067627,\n",
       " '22_mp3': 23.40625,\n",
       " '23_mp3': 596.37158203125,\n",
       " '24_mp3': 377.2158203125,\n",
       " '25_mp3': 53.9287109375,\n",
       " '26_mp3': 509.81787109375,\n",
       " '27_mp3': 19.61962890625,\n",
       " '28_mp3': 122.0400390625,\n",
       " '29_mp3': 107.72802734375,\n",
       " '30_mp3': 144.68798828125,\n",
       " '31_mp3': 121.31640625,\n",
       " '32_mp3': 401.78369140625,\n",
       " '33_mp3': 335.203125,\n",
       " '34_mp3': 70.28564453125,\n",
       " '35_mp3': 144.5283203125,\n",
       " '36_mp3': 502.60400390625,\n",
       " '37_mp3': 65.72216796875,\n",
       " '38_mp3': 240.9521484375,\n",
       " '39_mp3': 444.01220703125,\n",
       " '40_mp3': 294.994140625,\n",
       " '41_mp3': 384.20849609375,\n",
       " '42_mp3': 21.630859375,\n",
       " '43_mp3': 46.22216796875,\n",
       " '44_mp3': 214.3916015625,\n",
       " '45_mp3': 19.04052734375,\n",
       " '46_mp3': 249.5380859375,\n",
       " '47_mp3': 254.40771484375,\n",
       " '48_mp3': 239.65185546875,\n",
       " '49_mp3': 19.8193359375,\n",
       " '50_mp3': 166.47265625,\n",
       " '51_mp3': 124.50439453125,\n",
       " '52_mp3': 103.44384765625,\n",
       " '53_mp3': 261.64453125,\n",
       " '54_mp3': 256.2685546875,\n",
       " '55_mp3': 214.6494140625,\n",
       " '56_mp3': 214.744140625,\n",
       " '57_mp3': 471.4931640625,\n",
       " '58_mp3': 102.9248046875,\n",
       " '59_mp3': 77.5126953125,\n",
       " '60_mp3': 190.1708984375,\n",
       " '61_mp3': 66.6611328125,\n",
       " '62_mp3': 54.0869140625,\n",
       " '63_mp3': 192.19482421875,\n",
       " '64_mp3': 228.35693359375,\n",
       " '65_mp3': 73.8212890625,\n",
       " '66_mp3': 212.04638671875,\n",
       " '67_mp3': 37.197265625,\n",
       " '68_mp3': 139.302734375,\n",
       " '69_mp3': 175.60986328125,\n",
       " '70_mp3': 22.94189453125,\n",
       " '71_mp3': 184.7255859375,\n",
       " '72_mp3': 102.27197265625,\n",
       " '73_mp3': 110.46044921875,\n",
       " '74_mp3': 153.46875,\n",
       " '75_mp3': 37.8046875,\n",
       " '76_mp3': 55.91162109375,\n",
       " '77_mp3': 96.89404296875,\n",
       " '78_mp3': 161.2607421875,\n",
       " '79_mp3': 123.603515625,\n",
       " '80_mp3': 175.13671875,\n",
       " '81_mp3': 43.43603515625,\n",
       " '82_mp3': 518.18212890625,\n",
       " '83_mp3': 354.693359375,\n",
       " '84_mp3': 42.822265625,\n",
       " '85_mp3': 116.4365234375,\n",
       " '86_mp3': 50.30615234375,\n",
       " '87_mp3': 303.37939453125,\n",
       " '88_mp3': 304.44775390625,\n",
       " '89_mp3': 359.625,\n",
       " '90_mp3': 44.84814453125,\n",
       " '91_mp3': 255.31640625,\n",
       " '92_mp3': 212.4228515625,\n",
       " '93_mp3': 55.52734375,\n",
       " '94_mp3': 149.2978515625,\n",
       " '95_mp3': 343.60595703125,\n",
       " '96_mp3': 345.85009765625,\n",
       " '97_mp3': 366.841796875,\n",
       " '98_mp3': 164.4208984375,\n",
       " '99_mp3': 51.1943359375}"
      ]
     },
     "execution_count": 12,
     "metadata": {},
     "output_type": "execute_result"
    }
   ],
   "source": [
    "size_data"
   ]
  },
  {
   "cell_type": "code",
   "execution_count": null,
   "metadata": {},
   "outputs": [],
   "source": []
  }
 ],
 "metadata": {
  "kernelspec": {
   "display_name": "Python 3",
   "language": "python",
   "name": "python3"
  },
  "language_info": {
   "codemirror_mode": {
    "name": "ipython",
    "version": 3
   },
   "file_extension": ".py",
   "mimetype": "text/x-python",
   "name": "python",
   "nbconvert_exporter": "python",
   "pygments_lexer": "ipython3",
   "version": "3.6.5"
  }
 },
 "nbformat": 4,
 "nbformat_minor": 2
}
